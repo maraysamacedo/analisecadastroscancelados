{
 "cells": [
  {
   "cell_type": "markdown",
   "metadata": {},
   "source": [
    "# Python Insights - Analisando Dados com Python\n",
    "\n",
    "### Case - Cancelamento de Clientes\n",
    "\n",
    "Você foi contratado por uma empresa com mais de 800 mil clientes para um projeto de Dados. Recentemente a empresa percebeu que da sua base total de clientes, a maioria são clientes inativos, ou seja, que já cancelaram o serviço.\n",
    "\n",
    "Precisando melhorar seus resultados ela quer conseguir entender os principais motivos desses cancelamentos e quais as ações mais eficientes para reduzir esse número.\n",
    "\n",
    "Base de dados e arquivos: https://drive.google.com/drive/folders/1uDesZePdkhiraJmiyeZ-w5tfc8XsNYFZ?usp=drive_link"
   ]
  },
  {
   "cell_type": "code",
   "execution_count": null,
   "metadata": {},
   "outputs": [],
   "source": [
    "# Passo 1: Importar a base de dados\n",
    "import pandas as pd\n",
    "\n",
    "tabela = pd.read_csv(\"cancelamentos_sample.csv\")\n",
    "\n",
    "\n",
    "\n",
    "# Passo 2: Visualizar a base de dados\n",
    "    # Entender quais informações eu tenho disponíveis\n",
    "    # procurar os problemas da base de dados\n",
    "\n",
    "# colunas inúteis - excluindo \n",
    "tabela = tabela.drop(columns=\"CustomerID\")\n",
    "print(tabela)"
   ]
  },
  {
   "cell_type": "code",
   "execution_count": null,
   "metadata": {},
   "outputs": [],
   "source": [
    "# Passo 3: Corrigir os problemas da base de dados\n",
    "\n",
    "# informações vazias ou no formato incorreto\n",
    "display(tabela.info())\n",
    "tabela = tabela.dropna()  #NaN - informação vazia\n",
    "display(tabela.info())\n"
   ]
  },
  {
   "cell_type": "code",
   "execution_count": null,
   "metadata": {},
   "outputs": [],
   "source": [
    "# Passo 4: Análise dos cancelamentos\n",
    "display(tabela[\"cancelou\"].value_counts())\n",
    "\n",
    "# em percentual = normalizado\n",
    "display(tabela[\"cancelou\"].value_counts(normalize=True).map(\"{:.1%}\".format))\n"
   ]
  },
  {
   "cell_type": "code",
   "execution_count": null,
   "metadata": {},
   "outputs": [],
   "source": [
    "# Passo 5: Análise das causas dos cancelamentos dos clientes\n",
    "import plotly.express as px\n",
    "\n",
    "# para cada coluna da nossa tabela\n",
    "for coluna in tabela.columns:\n",
    "    #cria o gráfico\n",
    "    grafico = px.histogram(tabela, x=coluna, color=\"cancelou\", text_auto=True)\n",
    "    #exibe o gráfico\n",
    "    grafico.show()"
   ]
  },
  {
   "cell_type": "code",
   "execution_count": 29,
   "metadata": {},
   "outputs": [
    {
     "data": {
      "text/plain": [
       "cancelou\n",
       "0.0    0.816462\n",
       "1.0    0.183538\n",
       "Name: proportion, dtype: float64"
      ]
     },
     "metadata": {},
     "output_type": "display_data"
    }
   ],
   "source": [
    "# causas do cancelamento\n",
    "\n",
    "# todos os clientes de contrato mensal, cancelaram\n",
    "    # vamos dar desconto nos contratos anuais e trimestrais\n",
    "tabela = tabela[tabela[\"duracao_contrato\"]!= \"Monthly\"]\n",
    "\n",
    "\n",
    "# todos os clientes com mais de 20 dias de atraso, cancelaram\n",
    "    # criar um sistema de cobraça dos clientes que, com 10 dias de atraso, falamos todos os dias até a regularização\n",
    "tabela = tabela[tabela[\"dias_atraso\"]<= 20]\n",
    "\n",
    "# todos os clientes que ligaram mais de 4x pro call center, cancelaram\n",
    "    # criar um alerta para um cliente que ligou mais de 2x pro call center\n",
    "tabela = tabela[tabela[\"ligacoes_callcenter\"]<=4]\n",
    "\n",
    "\n",
    "# analisar se eu resolver esses 3 problemas, quanto cai o cancelamento?\n",
    "display(tabela[\"cancelou\"].value_counts(normalize=True).map(\"{:.1%}\".format))\n",
    "\n",
    "\n"
   ]
  }
 ],
 "metadata": {
  "kernelspec": {
   "display_name": "Python 3",
   "language": "python",
   "name": "python3"
  },
  "language_info": {
   "codemirror_mode": {
    "name": "ipython",
    "version": 3
   },
   "file_extension": ".py",
   "mimetype": "text/x-python",
   "name": "python",
   "nbconvert_exporter": "python",
   "pygments_lexer": "ipython3",
   "version": "3.13.0"
  },
  "orig_nbformat": 4
 },
 "nbformat": 4,
 "nbformat_minor": 2
}
